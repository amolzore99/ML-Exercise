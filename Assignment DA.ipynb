{
 "cells": [
  {
   "cell_type": "markdown",
   "id": "78e51f2c",
   "metadata": {},
   "source": [
    "# ASSIGNMENT-- DATA ANALYST"
   ]
  },
  {
   "cell_type": "code",
   "execution_count": 2,
   "id": "e2799657",
   "metadata": {},
   "outputs": [],
   "source": [
    "#Import Library \n",
    "import pandas as pd"
   ]
  },
  {
   "cell_type": "code",
   "execution_count": 3,
   "id": "4acd7b2e",
   "metadata": {},
   "outputs": [
    {
     "data": {
      "text/html": [
       "<div>\n",
       "<style scoped>\n",
       "    .dataframe tbody tr th:only-of-type {\n",
       "        vertical-align: middle;\n",
       "    }\n",
       "\n",
       "    .dataframe tbody tr th {\n",
       "        vertical-align: top;\n",
       "    }\n",
       "\n",
       "    .dataframe thead th {\n",
       "        text-align: right;\n",
       "    }\n",
       "</style>\n",
       "<table border=\"1\" class=\"dataframe\">\n",
       "  <thead>\n",
       "    <tr style=\"text-align: right;\">\n",
       "      <th></th>\n",
       "      <th>userid</th>\n",
       "      <th>last_connection</th>\n",
       "    </tr>\n",
       "  </thead>\n",
       "  <tbody>\n",
       "    <tr>\n",
       "      <th>0</th>\n",
       "      <td>1</td>\n",
       "      <td>2/8/2017</td>\n",
       "    </tr>\n",
       "    <tr>\n",
       "      <th>1</th>\n",
       "      <td>2</td>\n",
       "      <td>12/19/2017</td>\n",
       "    </tr>\n",
       "  </tbody>\n",
       "</table>\n",
       "</div>"
      ],
      "text/plain": [
       "   userid last_connection\n",
       "0       1        2/8/2017\n",
       "1       2      12/19/2017"
      ]
     },
     "execution_count": 3,
     "metadata": {},
     "output_type": "execute_result"
    }
   ],
   "source": [
    "#Create Table table no.1 ,  This table takes the last connection date by user up through 2017.\n",
    "\n",
    "table1={'userid':[1,2],'last_connection':['2/8/2017','12/19/2017']}\n",
    "df1=pd.DataFrame(table1)\n",
    "df1"
   ]
  },
  {
   "cell_type": "code",
   "execution_count": 4,
   "id": "8fe01be0",
   "metadata": {},
   "outputs": [
    {
     "data": {
      "text/html": [
       "<div>\n",
       "<style scoped>\n",
       "    .dataframe tbody tr th:only-of-type {\n",
       "        vertical-align: middle;\n",
       "    }\n",
       "\n",
       "    .dataframe tbody tr th {\n",
       "        vertical-align: top;\n",
       "    }\n",
       "\n",
       "    .dataframe thead th {\n",
       "        text-align: right;\n",
       "    }\n",
       "</style>\n",
       "<table border=\"1\" class=\"dataframe\">\n",
       "  <thead>\n",
       "    <tr style=\"text-align: right;\">\n",
       "      <th></th>\n",
       "      <th>userid</th>\n",
       "      <th>most_recent</th>\n",
       "    </tr>\n",
       "  </thead>\n",
       "  <tbody>\n",
       "    <tr>\n",
       "      <th>0</th>\n",
       "      <td>2</td>\n",
       "      <td>4/2/2018</td>\n",
       "    </tr>\n",
       "    <tr>\n",
       "      <th>1</th>\n",
       "      <td>2</td>\n",
       "      <td>5/7/2018</td>\n",
       "    </tr>\n",
       "    <tr>\n",
       "      <th>2</th>\n",
       "      <td>3</td>\n",
       "      <td>4/6/2018</td>\n",
       "    </tr>\n",
       "  </tbody>\n",
       "</table>\n",
       "</div>"
      ],
      "text/plain": [
       "   userid most_recent\n",
       "0       2    4/2/2018\n",
       "1       2    5/7/2018\n",
       "2       3    4/6/2018"
      ]
     },
     "execution_count": 4,
     "metadata": {},
     "output_type": "execute_result"
    }
   ],
   "source": [
    "#create table no. 2,This table have all of the users/connections from Jan 1st 2018 onward\n",
    "\n",
    "table2={'userid':[2,2,3],'most_recent':['4/2/2018','5/7/2018','4/6/2018']}\n",
    "df2=pd.DataFrame(table2)\n",
    "df2"
   ]
  },
  {
   "cell_type": "code",
   "execution_count": null,
   "id": "558764f5",
   "metadata": {},
   "outputs": [],
   "source": []
  },
  {
   "cell_type": "markdown",
   "id": "bb2d5fe4",
   "metadata": {},
   "source": [
    "They had a previous connection in last_connection and a connection in the last month in recent_connection"
   ]
  },
  {
   "cell_type": "code",
   "execution_count": 5,
   "id": "2a4599f9",
   "metadata": {},
   "outputs": [
    {
     "name": "stdout",
     "output_type": "stream",
     "text": [
      "   userid last_connection most_recent\n",
      "0       2      12/19/2017    4/2/2018\n",
      "1       2      12/19/2017    5/7/2018\n"
     ]
    }
   ],
   "source": [
    "print(pd.merge(df1,df2, on='userid', how='inner'))"
   ]
  },
  {
   "cell_type": "code",
   "execution_count": null,
   "id": "8c4da46f",
   "metadata": {},
   "outputs": [],
   "source": []
  },
  {
   "cell_type": "markdown",
   "id": "fe6f5df0",
   "metadata": {},
   "source": [
    "They had a previous connection in last_connection but do not have a connection in the last month in recent_connection"
   ]
  },
  {
   "cell_type": "code",
   "execution_count": 6,
   "id": "b1be6120",
   "metadata": {},
   "outputs": [
    {
     "name": "stdout",
     "output_type": "stream",
     "text": [
      "   userid last_connection most_recent\n",
      "0       1        2/8/2017         NaN\n",
      "1       2      12/19/2017    4/2/2018\n",
      "2       2      12/19/2017    5/7/2018\n"
     ]
    }
   ],
   "source": [
    "print(pd.merge(df1,df2, on='userid', how='left'))"
   ]
  },
  {
   "cell_type": "code",
   "execution_count": null,
   "id": "ffce7fff",
   "metadata": {},
   "outputs": [],
   "source": []
  },
  {
   "cell_type": "markdown",
   "id": "c354bda9",
   "metadata": {},
   "source": [
    "They did not have a previous connection in last_connection but do have a connection in the last month in recent_connection"
   ]
  },
  {
   "cell_type": "code",
   "execution_count": 7,
   "id": "4adf4ae7",
   "metadata": {},
   "outputs": [
    {
     "name": "stdout",
     "output_type": "stream",
     "text": [
      "   userid last_connection most_recent\n",
      "0       2      12/19/2017    4/2/2018\n",
      "1       2      12/19/2017    5/7/2018\n",
      "2       3             NaN    4/6/2018\n"
     ]
    }
   ],
   "source": [
    "print(pd.merge(df1,df2, on='userid', how='right'))"
   ]
  },
  {
   "cell_type": "code",
   "execution_count": null,
   "id": "e949d308",
   "metadata": {},
   "outputs": [],
   "source": []
  }
 ],
 "metadata": {
  "kernelspec": {
   "display_name": "Python 3",
   "language": "python",
   "name": "python3"
  },
  "language_info": {
   "codemirror_mode": {
    "name": "ipython",
    "version": 3
   },
   "file_extension": ".py",
   "mimetype": "text/x-python",
   "name": "python",
   "nbconvert_exporter": "python",
   "pygments_lexer": "ipython3",
   "version": "3.8.8"
  }
 },
 "nbformat": 4,
 "nbformat_minor": 5
}
